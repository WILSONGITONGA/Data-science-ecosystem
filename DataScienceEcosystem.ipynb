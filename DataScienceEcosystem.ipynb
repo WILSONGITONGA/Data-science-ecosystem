{
 "cells": [
  {
   "cell_type": "markdown",
   "id": "575820c3-5cff-4d4f-ac40-951361744995",
   "metadata": {},
   "source": [
    "# Data Science Tools and Ecosystem"
   ]
  },
  {
   "cell_type": "markdown",
   "id": "7fd0b76d-f0ac-4538-8c77-0ee975c17173",
   "metadata": {},
   "source": [
    "### In this notebook, Data Science Tools and Ecosystem are summarized."
   ]
  },
  {
   "cell_type": "markdown",
   "id": "1c40db13-a448-4731-8698-8b2e9c292a8f",
   "metadata": {},
   "source": [
    " **Objectives:**\n",
    " - popular languages for data science\n",
    " - libraries for data science\n",
    " - open source data science tools\n",
    " - arithmetic expressions in python\n"
   ]
  },
  {
   "cell_type": "markdown",
   "id": "8506d3da-aca8-42b5-b404-dbd746c06000",
   "metadata": {},
   "source": [
    "### Some of the popular languages that Data Scientists use are:\n",
    "1. Python\n",
    "2. R\n",
    "3. SQL"
   ]
  },
  {
   "cell_type": "markdown",
   "id": "42e3ac29-720a-4837-94bd-a6ce084d7942",
   "metadata": {},
   "source": [
    "### Some of the commonly used libraries used by Data Scientists include:\n",
    "1. Numpy\n",
    "2. Pandas\n",
    "3. plotly\n",
    "4. matplotlib\n",
    "5. scikit-learn"
   ]
  },
  {
   "cell_type": "markdown",
   "id": "265d5bc8-21e2-441e-9b7f-4cc9f4926a3b",
   "metadata": {},
   "source": [
    "|Open Source Data Science Tools|\n",
    "|-------------------------------|\n",
    "|R|\n",
    "|Python| \n",
    "|SQL|"
   ]
  },
  {
   "cell_type": "markdown",
   "id": "dc308e0c-2b1d-4e84-8ba6-fed9f5415e1e",
   "metadata": {},
   "source": [
    "### Below are a few examples of evaluating arithmetic expressions in Python"
   ]
  },
  {
   "cell_type": "code",
   "execution_count": 2,
   "id": "b33c7fc2-32c4-4127-953e-16b44a45df07",
   "metadata": {},
   "outputs": [
    {
     "data": {
      "text/plain": [
       "17"
      ]
     },
     "execution_count": 2,
     "metadata": {},
     "output_type": "execute_result"
    }
   ],
   "source": [
    " #This a simple arithmetic expression to mutiply then add integers\n",
    "(3*4)+5"
   ]
  },
  {
   "cell_type": "code",
   "execution_count": 3,
   "id": "391c55db-fecd-45bf-8d01-f3fbbb233ff6",
   "metadata": {},
   "outputs": [
    {
     "data": {
      "text/plain": [
       "3.3333333333333335"
      ]
     },
     "execution_count": 3,
     "metadata": {},
     "output_type": "execute_result"
    }
   ],
   "source": [
    "#This will convert 200 minutes to hours by diving by 60\n",
    "200/60"
   ]
  },
  {
   "cell_type": "markdown",
   "id": "53cf0d4f-b32a-4995-aaea-6118ef3bb28c",
   "metadata": {},
   "source": [
    "## Author\n",
    "- wilson Gitonga"
   ]
  },
  {
   "cell_type": "code",
   "execution_count": null,
   "id": "b59eff40-5fcc-41d2-b34a-f9d18c71e30d",
   "metadata": {},
   "outputs": [],
   "source": []
  }
 ],
 "metadata": {
  "kernelspec": {
   "display_name": "Python 3 (ipykernel)",
   "language": "python",
   "name": "python3"
  },
  "language_info": {
   "codemirror_mode": {
    "name": "ipython",
    "version": 3
   },
   "file_extension": ".py",
   "mimetype": "text/x-python",
   "name": "python",
   "nbconvert_exporter": "python",
   "pygments_lexer": "ipython3",
   "version": "3.11.7"
  }
 },
 "nbformat": 4,
 "nbformat_minor": 5
}
